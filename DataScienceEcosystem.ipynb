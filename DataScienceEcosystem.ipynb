{
 "cells": [
  {
   "cell_type": "markdown",
   "id": "e2f118bc-af28-4aeb-b1fc-5f4a1e4ed9b6",
   "metadata": {},
   "source": [
    "# Data Science Tools and Ecosystem"
   ]
  },
  {
   "cell_type": "markdown",
   "id": "ae093535-b8d3-40a8-be84-2e8af5da874f",
   "metadata": {},
   "source": [
    "In this notebook, Data Science Tools and Ecosystem are summarized."
   ]
  },
  {
   "cell_type": "markdown",
   "id": "cc6b6b6f-0db4-44e6-8e7e-f116ba737ad5",
   "metadata": {},
   "source": [
    "**Objectives:**\n",
    "* list popular languages for Data Science\n",
    "* data Science Tools\n",
    "* libraries"
   ]
  },
  {
   "cell_type": "markdown",
   "id": "164c47c2-36aa-4828-8703-0975ffe57674",
   "metadata": {},
   "source": [
    "Some of the popular languages that Data Scientists use are:\n",
    "1. Python\n",
    "2. R\n",
    "3. Julia\n",
    "4. SQL"
   ]
  },
  {
   "cell_type": "markdown",
   "id": "188bc6cd-e374-4dfb-b892-9c94514b1ad5",
   "metadata": {},
   "source": [
    "Some of the commonly used libraries used by Data Scientists include:\n",
    "1. Pandas \n",
    "2. NumPy \n",
    "3. Matplotlib \n",
    "4. TensorFlow \n",
    "5. ggplot2 \n",
    "6. caret"
   ]
  },
  {
   "cell_type": "markdown",
   "id": "426d5792-843f-40b8-bfa9-bedbbc288fb5",
   "metadata": {},
   "source": [
    "|Data Science Tools|\n",
    "|------------------|\n",
    "| Jupyter Notebook |\n",
    "| RStudio |\n",
    "| Visual Studio Code |"
   ]
  },
  {
   "cell_type": "markdown",
   "id": "bc6fd355-37b7-42b7-b9ac-94131d9dbd2b",
   "metadata": {},
   "source": [
    "### Below are a few examples of evaluating arithmetic expressions in Python."
   ]
  },
  {
   "cell_type": "code",
   "execution_count": 6,
   "id": "93239af0-9355-484b-955c-f040cc7d1a5d",
   "metadata": {},
   "outputs": [
    {
     "data": {
      "text/plain": [
       "17"
      ]
     },
     "execution_count": 6,
     "metadata": {},
     "output_type": "execute_result"
    }
   ],
   "source": [
    " # This a simple arithmetic expression to mutiply then add integers.\n",
    "(3 * 4) + 5"
   ]
  },
  {
   "cell_type": "code",
   "execution_count": 4,
   "id": "cf2dd144-31ff-437c-ab34-0b01713a6276",
   "metadata": {},
   "outputs": [
    {
     "data": {
      "text/plain": [
       "3"
      ]
     },
     "execution_count": 4,
     "metadata": {},
     "output_type": "execute_result"
    }
   ],
   "source": [
    "# This will convert 200 minutes into the number of full hours by dividing by 60.\n",
    "200//60"
   ]
  },
  {
   "cell_type": "markdown",
   "id": "7a53889a-0546-4149-93ea-301f4581d9d6",
   "metadata": {},
   "source": [
    "## Author \n",
    "Vasyl Bihari"
   ]
  },
  {
   "cell_type": "code",
   "execution_count": null,
   "id": "d2837b03-4d61-4cd4-a221-f288e18ec136",
   "metadata": {},
   "outputs": [],
   "source": []
  }
 ],
 "metadata": {
  "kernelspec": {
   "display_name": "Python 3 (ipykernel)",
   "language": "python",
   "name": "python3"
  },
  "language_info": {
   "codemirror_mode": {
    "name": "ipython",
    "version": 3
   },
   "file_extension": ".py",
   "mimetype": "text/x-python",
   "name": "python",
   "nbconvert_exporter": "python",
   "pygments_lexer": "ipython3",
   "version": "3.12.8"
  }
 },
 "nbformat": 4,
 "nbformat_minor": 5
}
